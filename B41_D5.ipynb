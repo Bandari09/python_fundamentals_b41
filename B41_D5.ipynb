{
 "cells": [
  {
   "cell_type": "code",
   "execution_count": 1,
   "metadata": {},
   "outputs": [],
   "source": [
    "#Day5 Class\n",
    "#Introduction to List DataTypes"
   ]
  },
  {
   "cell_type": "code",
   "execution_count": null,
   "metadata": {},
   "outputs": [],
   "source": [
    "#A LIST is a collection of items defined in a particular order.\n",
    "#It is classified as mutable datatype since we can edit or alter them later\n",
    "#we declare list using []"
   ]
  },
  {
   "cell_type": "code",
   "execution_count": 2,
   "metadata": {},
   "outputs": [
    {
     "name": "stdout",
     "output_type": "stream",
     "text": [
      "['Ram', 'Sam', 'Fairoz', 'Suresh', 'Antony', 'Michael', 'Krish']\n"
     ]
    }
   ],
   "source": [
    "Students = ['Ram', 'Sam', 'Fairoz', 'Suresh', 'Antony', 'Michael', 'Krish']\n",
    "print (Students)"
   ]
  },
  {
   "cell_type": "code",
   "execution_count": 4,
   "metadata": {},
   "outputs": [
    {
     "data": {
      "text/plain": [
       "list"
      ]
     },
     "execution_count": 4,
     "metadata": {},
     "output_type": "execute_result"
    }
   ],
   "source": [
    "type (Students)"
   ]
  },
  {
   "cell_type": "code",
   "execution_count": 6,
   "metadata": {},
   "outputs": [
    {
     "name": "stdout",
     "output_type": "stream",
     "text": [
      "Fairoz\n"
     ]
    }
   ],
   "source": [
    "#List will allocate Indexing for each element in the list starting from ZERO.\n",
    "#If we want to access nth element in the list, we need to print n-1 element.\n",
    "#How to acess elements from the list\n",
    "#To access \"Fairoz\" from the list we can do below\n",
    "\n",
    "print (Students[2])"
   ]
  },
  {
   "cell_type": "code",
   "execution_count": 8,
   "metadata": {},
   "outputs": [
    {
     "name": "stdout",
     "output_type": "stream",
     "text": [
      "Antony\n"
     ]
    }
   ],
   "source": [
    "#We can also Enhance the list that are present, ex: To get the data in proper format\n",
    "\n",
    "print (Students[4].title())"
   ]
  },
  {
   "cell_type": "code",
   "execution_count": 17,
   "metadata": {},
   "outputs": [
    {
     "name": "stdout",
     "output_type": "stream",
     "text": [
      "['Ram', 'Sam', 'Fairoz', 'Suresh', 'Antony', 'Michael', 'Krish', 'Rahul', 'Rahul', 'rahul', 'rahul', 'rahul', 'rahul']\n"
     ]
    }
   ],
   "source": [
    "#Altering the List\t\n",
    "#1. How to add elements to the list\n",
    "#2. How to delete emelemtns from the list\n",
    "#3. How to modify elements from the list\n",
    "\n",
    "    #1--> To add new elements to the list, we use append \n",
    "Students.append('rahul')\n",
    "    #This will by default add the new element at n+1 position at the end of the list\n",
    "print (Students)"
   ]
  },
  {
   "cell_type": "code",
   "execution_count": 19,
   "metadata": {},
   "outputs": [
    {
     "name": "stdout",
     "output_type": "stream",
     "text": [
      "['Ram', 'Sam', 'Fairoz', 'Suresh', 'Aishwarya', 'Antony', 'Michael', 'Krish', 'Rahul', 'Rahul', 'rahul', 'rahul', 'rahul', 'rahul']\n"
     ]
    }
   ],
   "source": [
    "#We can also use insert to insert any new elements into the list.  It works as same as append,\n",
    "#but the difference is insert can insert an element at any position we want int he list.  This cannot be done by append\n",
    "Students.insert(4,'Aishwarya')\n",
    "print (Students)"
   ]
  },
  {
   "cell_type": "code",
   "execution_count": 21,
   "metadata": {},
   "outputs": [
    {
     "name": "stdout",
     "output_type": "stream",
     "text": [
      "['Ram', 'Sam', 'Fairoz', 'Suresh', 'Aish', 'Antony', 'Michael', 'Krish', 'Rahul', 'Rahul', 'rahul', 'rahul', 'rahul', 'rahul']\n"
     ]
    }
   ],
   "source": [
    "#To Modify any element in the list, we have to replace the new element with it's assoicated index id.\n",
    "#Ex To modify name of the Aishwarya to Aish, we need to give a sbelow.\n",
    "\n",
    "Students[4]=('Aish')\n",
    "print (Students)"
   ]
  },
  {
   "cell_type": "code",
   "execution_count": 22,
   "metadata": {},
   "outputs": [],
   "source": [
    "\n",
    "#To Delete an element from a list, we use \"delete\" keyword along with index number\n",
    "#ex: del Students[5]\n",
    "\n",
    "del Students[5]"
   ]
  },
  {
   "cell_type": "code",
   "execution_count": 23,
   "metadata": {},
   "outputs": [
    {
     "name": "stdout",
     "output_type": "stream",
     "text": [
      "['Ram', 'Sam', 'Fairoz', 'Suresh', 'Aish', 'Michael', 'Krish', 'Rahul', 'Rahul', 'rahul', 'rahul', 'rahul', 'rahul']\n"
     ]
    }
   ],
   "source": [
    "print (Students)"
   ]
  },
  {
   "cell_type": "code",
   "execution_count": 24,
   "metadata": {},
   "outputs": [
    {
     "ename": "TypeError",
     "evalue": "list indices must be integers or slices, not tuple",
     "output_type": "error",
     "traceback": [
      "\u001b[1;31m---------------------------------------------------------------------------\u001b[0m",
      "\u001b[1;31mTypeError\u001b[0m                                 Traceback (most recent call last)",
      "\u001b[1;32m<ipython-input-24-e7a5976eba6a>\u001b[0m in \u001b[0;36m<module>\u001b[1;34m\u001b[0m\n\u001b[1;32m----> 1\u001b[1;33m \u001b[1;32mdel\u001b[0m \u001b[0mStudents\u001b[0m\u001b[1;33m[\u001b[0m\u001b[1;36m6\u001b[0m\u001b[1;33m,\u001b[0m\u001b[1;36m7\u001b[0m\u001b[1;33m]\u001b[0m\u001b[1;33m\u001b[0m\u001b[1;33m\u001b[0m\u001b[0m\n\u001b[0m",
      "\u001b[1;31mTypeError\u001b[0m: list indices must be integers or slices, not tuple"
     ]
    }
   ],
   "source": [
    "del Students[6,7]"
   ]
  },
  {
   "cell_type": "code",
   "execution_count": null,
   "metadata": {},
   "outputs": [],
   "source": []
  }
 ],
 "metadata": {
  "kernelspec": {
   "display_name": "Python 3",
   "language": "python",
   "name": "python3"
  },
  "language_info": {
   "codemirror_mode": {
    "name": "ipython",
    "version": 3
   },
   "file_extension": ".py",
   "mimetype": "text/x-python",
   "name": "python",
   "nbconvert_exporter": "python",
   "pygments_lexer": "ipython3",
   "version": "3.8.5"
  }
 },
 "nbformat": 4,
 "nbformat_minor": 4
}
